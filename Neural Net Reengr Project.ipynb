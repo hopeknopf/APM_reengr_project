{
 "cells": [
  {
   "cell_type": "code",
   "execution_count": 1,
   "metadata": {},
   "outputs": [
    {
     "name": "stderr",
     "output_type": "stream",
     "text": [
      "/Users/hopeknopf/anaconda3/lib/python3.6/site-packages/sklearn/cross_validation.py:41: DeprecationWarning: This module was deprecated in version 0.18 in favor of the model_selection module into which all the refactored classes and functions are moved. Also note that the interface of the new CV iterators are different from that of this module. This module will be removed in 0.20.\n",
      "  \"This module will be removed in 0.20.\", DeprecationWarning)\n"
     ]
    }
   ],
   "source": [
    "#import necessary packages \n",
    "import pandas as pd\n",
    "import numpy as np\n",
    "from sklearn import metrics\n",
    "from sklearn import preprocessing\n",
    "import matplotlib.pyplot as plt \n",
    "plt.rc(\"font\", size=14)\n",
    "from sklearn.linear_model import LogisticRegression\n",
    "from sklearn.cross_validation import train_test_split\n",
    "import seaborn as sns"
   ]
  },
  {
   "cell_type": "code",
   "execution_count": 2,
   "metadata": {},
   "outputs": [
    {
     "data": {
      "text/html": [
       "<div>\n",
       "<style scoped>\n",
       "    .dataframe tbody tr th:only-of-type {\n",
       "        vertical-align: middle;\n",
       "    }\n",
       "\n",
       "    .dataframe tbody tr th {\n",
       "        vertical-align: top;\n",
       "    }\n",
       "\n",
       "    .dataframe thead th {\n",
       "        text-align: right;\n",
       "    }\n",
       "</style>\n",
       "<table border=\"1\" class=\"dataframe\">\n",
       "  <thead>\n",
       "    <tr style=\"text-align: right;\">\n",
       "      <th></th>\n",
       "      <th>U_ID</th>\n",
       "      <th>age</th>\n",
       "      <th>female</th>\n",
       "      <th>college</th>\n",
       "      <th>church</th>\n",
       "      <th>extrovert</th>\n",
       "      <th>teeth</th>\n",
       "      <th>attention</th>\n",
       "      <th>talkative</th>\n",
       "      <th>sport</th>\n",
       "      <th>...</th>\n",
       "      <th>upbringing</th>\n",
       "      <th>anxiety</th>\n",
       "      <th>newppl</th>\n",
       "      <th>carelike</th>\n",
       "      <th>group</th>\n",
       "      <th>Netflix</th>\n",
       "      <th>urban</th>\n",
       "      <th>politics</th>\n",
       "      <th>convos</th>\n",
       "      <th>y</th>\n",
       "    </tr>\n",
       "  </thead>\n",
       "  <tbody>\n",
       "    <tr>\n",
       "      <th>0</th>\n",
       "      <td>1&amp;32</td>\n",
       "      <td>0.0</td>\n",
       "      <td>0.0</td>\n",
       "      <td>0.0</td>\n",
       "      <td>0.0</td>\n",
       "      <td>0.0</td>\n",
       "      <td>1.0</td>\n",
       "      <td>0.0</td>\n",
       "      <td>0.0</td>\n",
       "      <td>0.0</td>\n",
       "      <td>...</td>\n",
       "      <td>1.0</td>\n",
       "      <td>0.0</td>\n",
       "      <td>0.0</td>\n",
       "      <td>2.0</td>\n",
       "      <td>0.0</td>\n",
       "      <td>0.0</td>\n",
       "      <td>0.0</td>\n",
       "      <td>0.0</td>\n",
       "      <td>1.0</td>\n",
       "      <td>1</td>\n",
       "    </tr>\n",
       "    <tr>\n",
       "      <th>1</th>\n",
       "      <td>1&amp;41</td>\n",
       "      <td>0.0</td>\n",
       "      <td>0.0</td>\n",
       "      <td>0.0</td>\n",
       "      <td>0.0</td>\n",
       "      <td>2.0</td>\n",
       "      <td>0.0</td>\n",
       "      <td>2.0</td>\n",
       "      <td>1.0</td>\n",
       "      <td>0.0</td>\n",
       "      <td>...</td>\n",
       "      <td>0.0</td>\n",
       "      <td>0.0</td>\n",
       "      <td>2.0</td>\n",
       "      <td>0.0</td>\n",
       "      <td>0.0</td>\n",
       "      <td>2.0</td>\n",
       "      <td>2.0</td>\n",
       "      <td>2.0</td>\n",
       "      <td>1.0</td>\n",
       "      <td>1</td>\n",
       "    </tr>\n",
       "    <tr>\n",
       "      <th>2</th>\n",
       "      <td>1&amp;33</td>\n",
       "      <td>0.0</td>\n",
       "      <td>1.0</td>\n",
       "      <td>0.0</td>\n",
       "      <td>2.0</td>\n",
       "      <td>2.0</td>\n",
       "      <td>1.0</td>\n",
       "      <td>0.0</td>\n",
       "      <td>0.0</td>\n",
       "      <td>0.0</td>\n",
       "      <td>...</td>\n",
       "      <td>1.0</td>\n",
       "      <td>0.0</td>\n",
       "      <td>0.0</td>\n",
       "      <td>2.0</td>\n",
       "      <td>2.0</td>\n",
       "      <td>2.0</td>\n",
       "      <td>2.0</td>\n",
       "      <td>0.0</td>\n",
       "      <td>1.0</td>\n",
       "      <td>1</td>\n",
       "    </tr>\n",
       "    <tr>\n",
       "      <th>3</th>\n",
       "      <td>4&amp;95</td>\n",
       "      <td>0.0</td>\n",
       "      <td>1.0</td>\n",
       "      <td>0.0</td>\n",
       "      <td>0.0</td>\n",
       "      <td>2.0</td>\n",
       "      <td>1.0</td>\n",
       "      <td>2.0</td>\n",
       "      <td>1.0</td>\n",
       "      <td>2.0</td>\n",
       "      <td>...</td>\n",
       "      <td>1.0</td>\n",
       "      <td>2.0</td>\n",
       "      <td>2.0</td>\n",
       "      <td>2.0</td>\n",
       "      <td>2.0</td>\n",
       "      <td>0.0</td>\n",
       "      <td>0.0</td>\n",
       "      <td>2.0</td>\n",
       "      <td>1.0</td>\n",
       "      <td>1</td>\n",
       "    </tr>\n",
       "    <tr>\n",
       "      <th>4</th>\n",
       "      <td>4&amp;95</td>\n",
       "      <td>0.0</td>\n",
       "      <td>1.0</td>\n",
       "      <td>0.0</td>\n",
       "      <td>0.0</td>\n",
       "      <td>2.0</td>\n",
       "      <td>1.0</td>\n",
       "      <td>2.0</td>\n",
       "      <td>1.0</td>\n",
       "      <td>2.0</td>\n",
       "      <td>...</td>\n",
       "      <td>1.0</td>\n",
       "      <td>2.0</td>\n",
       "      <td>2.0</td>\n",
       "      <td>2.0</td>\n",
       "      <td>2.0</td>\n",
       "      <td>0.0</td>\n",
       "      <td>0.0</td>\n",
       "      <td>2.0</td>\n",
       "      <td>1.0</td>\n",
       "      <td>1</td>\n",
       "    </tr>\n",
       "  </tbody>\n",
       "</table>\n",
       "<p>5 rows × 26 columns</p>\n",
       "</div>"
      ],
      "text/plain": [
       "   U_ID  age  female  college  church  extrovert  teeth  attention  talkative  \\\n",
       "0  1&32  0.0     0.0      0.0     0.0        0.0    1.0        0.0        0.0   \n",
       "1  1&41  0.0     0.0      0.0     0.0        2.0    0.0        2.0        1.0   \n",
       "2  1&33  0.0     1.0      0.0     2.0        2.0    1.0        0.0        0.0   \n",
       "3  4&95  0.0     1.0      0.0     0.0        2.0    1.0        2.0        1.0   \n",
       "4  4&95  0.0     1.0      0.0     0.0        2.0    1.0        2.0        1.0   \n",
       "\n",
       "   sport ...  upbringing  anxiety  newppl  carelike  group  Netflix  urban  \\\n",
       "0    0.0 ...         1.0      0.0     0.0       2.0    0.0      0.0    0.0   \n",
       "1    0.0 ...         0.0      0.0     2.0       0.0    0.0      2.0    2.0   \n",
       "2    0.0 ...         1.0      0.0     0.0       2.0    2.0      2.0    2.0   \n",
       "3    2.0 ...         1.0      2.0     2.0       2.0    2.0      0.0    0.0   \n",
       "4    2.0 ...         1.0      2.0     2.0       2.0    2.0      0.0    0.0   \n",
       "\n",
       "   politics  convos  y  \n",
       "0       0.0     1.0  1  \n",
       "1       2.0     1.0  1  \n",
       "2       0.0     1.0  1  \n",
       "3       2.0     1.0  1  \n",
       "4       2.0     1.0  1  \n",
       "\n",
       "[5 rows x 26 columns]"
      ]
     },
     "execution_count": 2,
     "metadata": {},
     "output_type": "execute_result"
    }
   ],
   "source": [
    "#read in data \n",
    "df = pd.read_csv('apm_cleaned_data1.csv',encoding='utf-8-sig')\n",
    "df.drop(df.columns[[0]], axis=1, inplace=True) #drop first column\n",
    "df.head()"
   ]
  },
  {
   "cell_type": "code",
   "execution_count": 3,
   "metadata": {},
   "outputs": [],
   "source": [
    "#define x and y\n",
    "y = df['y'].values\n",
    "X = df.iloc[:,1:-1]\n",
    "#test train split twice to get test and validation and training sets and stratify y\n"
   ]
  },
  {
   "cell_type": "code",
   "execution_count": 4,
   "metadata": {},
   "outputs": [],
   "source": [
    "X2 = np.array(X)"
   ]
  },
  {
   "cell_type": "code",
   "execution_count": 5,
   "metadata": {},
   "outputs": [],
   "source": [
    "from sklearn.model_selection import train_test_split\n",
    "X_train, X_test, y_train, y_test = train_test_split(X2, y,\n",
    "                                                    stratify=y, \n",
    "                                                    test_size=0.2, random_state=0)\n"
   ]
  },
  {
   "cell_type": "code",
   "execution_count": 6,
   "metadata": {},
   "outputs": [],
   "source": [
    "\n",
    "\"\"\"\n",
    "Created on Dec 21, 2012\n",
    "@author: Alexandre\n",
    "\"\"\"\n",
    "import numpy as np\n",
    "\n",
    "class PUAdapter(object):\n",
    "    \"\"\"\n",
    "    Adapts any probabilistic binary classifier to positive-unlabled learning using the PosOnly method proposed by\n",
    "    Elkan and Noto:\n",
    "    Elkan, Charles, and Keith Noto. \\\"Learning classifiers from only positive and unlabeled data.\\\"\n",
    "    Proceeding of the 14th ACM SIGKDD international conference on Knowledge discovery and data mining. ACM, 2008.\n",
    "    \"\"\"\n",
    "\n",
    "\n",
    "    def __init__(self, estimator, hold_out_ratio=0.1, precomputed_kernel=False):\n",
    "        \"\"\"\n",
    "        estimator -- An estimator of p(s=1|x) that must implement:\n",
    "                     * predict_proba(X): Takes X, which can be a list of feature vectors or a precomputed\n",
    "                                         kernel matrix and outputs p(s=1|x) for each example in X\n",
    "                     * fit(X,y): Takes X, which can be a list of feature vectors or a precomputed\n",
    "                                 kernel matrix and takes y, which are the labels associated to the\n",
    "                                 examples in X\n",
    "        hold_out_ratio -- The ratio of training examples that must be held out of the training set of examples\n",
    "                          to estimate p(s=1|y=1) after training the estimator\n",
    "        precomputed_kernel -- Specifies if the X matrix for predict_proba and fit is a precomputed kernel matrix\n",
    "        \"\"\"\n",
    "        self.estimator = estimator\n",
    "        self.c = 1.0\n",
    "        self.hold_out_ratio = hold_out_ratio\n",
    "        \n",
    "        if precomputed_kernel:\n",
    "            self.fit = self.__fit_precomputed_kernel\n",
    "        else:\n",
    "            self.fit = self.__fit_no_precomputed_kernel\n",
    "\n",
    "        self.estimator_fitted = False\n",
    "        \n",
    "    def __str__(self):\n",
    "        return 'Estimator:' + str(self.estimator) + '\\n' + 'p(s=1|y=1,x) ~= ' + str(self.c) + '\\n' + \\\n",
    "            'Fitted: ' + str(self.estimator_fitted)\n",
    "    \n",
    "    \n",
    "    def __fit_precomputed_kernel(self, X, y):\n",
    "        \"\"\"\n",
    "        Fits an estimator of p(s=1|x) and estimates the value of p(s=1|y=1) using a subset of the training examples\n",
    "        X -- Precomputed kernel matrix\n",
    "        y -- Labels associated to each example in X (Positive label: 1.0, Negative label: -1.0)\n",
    "        \"\"\"\n",
    "        positives = np.where(y == 1.)[0]\n",
    "        hold_out_size = int(np.ceil(len(positives) * self.hold_out_ratio))\n",
    "\n",
    "        if len(positives) <= hold_out_size:\n",
    "            raise('Not enough positive examples to estimate p(s=1|y=1,x). Need at least ' + str(hold_out_size + 1) + '.')\n",
    "        \n",
    "        np.random.shuffle(positives)\n",
    "        hold_out = positives[:hold_out_size]\n",
    "        \n",
    "        #Hold out test kernel matrix\n",
    "        X_test_hold_out = X[hold_out]\n",
    "        keep = list(set(np.arange(len(y))) - set(hold_out))\n",
    "        X_test_hold_out = X_test_hold_out[:,keep]\n",
    "        \n",
    "        #New training kernel matrix\n",
    "        X = X[:, keep]\n",
    "        X = X[keep]\n",
    "\n",
    "        y = np.delete(y, hold_out)\n",
    "        \n",
    "        self.estimator.fit(X, y)\n",
    "        \n",
    "        hold_out_predictions = self.estimator.predict_proba(X_test_hold_out)\n",
    "        \n",
    "        try:\n",
    "            hold_out_predictions = hold_out_predictions[:,1]\n",
    "        except:\n",
    "            pass\n",
    "        \n",
    "        c = np.mean(hold_out_predictions)\n",
    "        self.c = c\n",
    "        \n",
    "        self.estimator_fitted = True\n",
    "        \n",
    "        \n",
    "    def __fit_no_precomputed_kernel(self, X, y):\n",
    "        \"\"\"\n",
    "        Fits an estimator of p(s=1|x) and estimates the value of p(s=1|y=1,x)\n",
    "        X -- List of feature vectors\n",
    "        y -- Labels associated to each feature vector in X (Positive label: 1.0, Negative label: -1.0)\n",
    "        \"\"\"\n",
    "        positives = np.where(y == 1.)[0] #find where label is positive\n",
    "        hold_out_size = int(np.ceil(len(positives) * self.hold_out_ratio)) \n",
    "\n",
    "        if len(positives) <= hold_out_size:\n",
    "            raise('Not enough positive examples to estimate p(s=1|y=1,x). Need at least ' + str(hold_out_size + 1) + '.')\n",
    "        \n",
    "        np.random.shuffle(positives) #randomly select positives to remove\n",
    "        hold_out = positives[:hold_out_size] \n",
    "        X_hold_out = X[hold_out]\n",
    "        X = np.delete(X, hold_out,0)\n",
    "        y = np.delete(y, hold_out)\n",
    "        \n",
    "        self.estimator.fit(X, y)\n",
    "        \n",
    "        hold_out_predictions = self.estimator.predict_proba(X_hold_out)\n",
    "        \n",
    "        try:\n",
    "            hold_out_predictions = hold_out_predictions[:,1]\n",
    "        except:\n",
    "            pass\n",
    "        \n",
    "        c = np.mean(hold_out_predictions)\n",
    "        self.c = c\n",
    "\n",
    "        self.estimator_fitted = True\n",
    "        \n",
    "    \n",
    "    def predict_proba(self, X):\n",
    "        \"\"\"\n",
    "        Predicts p(y=1|x) using the estimator and the value of p(s=1|y=1) estimated in fit(...)\n",
    "        X -- List of feature vectors or a precomputed kernel matrix\n",
    "        \"\"\"\n",
    "        if not self.estimator_fitted:\n",
    "            raise Exception('The estimator must be fitted before calling predict_proba(...).')\n",
    "\n",
    "        probabilistic_predictions = self.estimator.predict_proba(X)\n",
    "        \n",
    "        try:\n",
    "            probabilistic_predictions = probabilistic_predictions[:,1]\n",
    "        except:\n",
    "            pass\n",
    "        \n",
    "        return probabilistic_predictions / self.c\n",
    "    \n",
    "    \n",
    "    def predict(self, X, treshold=0.5):\n",
    "        \"\"\"\n",
    "        Assign labels to feature vectors based on the estimator's predictions\n",
    "        X -- List of feature vectors or a precomputed kernel matrix\n",
    "        treshold -- The decision treshold between the positive and the negative class\n",
    "        \"\"\"\n",
    "        if not self.estimator_fitted:\n",
    "            raise Exception('The estimator must be fitted before calling predict(...).')\n",
    "\n",
    "        return np.array([1. if p > treshold else -1. for p in self.predict_proba(X)])\n",
    "        \n",
    "        \n"
   ]
  },
  {
   "cell_type": "code",
   "execution_count": 7,
   "metadata": {},
   "outputs": [],
   "source": [
    "#building the neural net\n",
    "from sklearn.neural_network import MLPClassifier\n",
    "clf = MLPClassifier(hidden_layer_sizes=(10,),max_iter=500, random_state=50,learning_rate_init=0.0001, \n",
    "                    learning_rate='constant', momentum=0.9)\n"
   ]
  },
  {
   "cell_type": "code",
   "execution_count": 8,
   "metadata": {},
   "outputs": [],
   "source": [
    "estimator = clf.fit(X_train,y_train)"
   ]
  },
  {
   "cell_type": "code",
   "execution_count": 9,
   "metadata": {},
   "outputs": [],
   "source": [
    "obj = PUAdapter(estimator)"
   ]
  },
  {
   "cell_type": "code",
   "execution_count": 10,
   "metadata": {},
   "outputs": [],
   "source": [
    "obj.fit(X_train, y_train)"
   ]
  },
  {
   "cell_type": "code",
   "execution_count": 11,
   "metadata": {},
   "outputs": [],
   "source": [
    "#the labels of predicted function in array\n",
    "y_train_pred = obj.predict(X_train)"
   ]
  },
  {
   "cell_type": "code",
   "execution_count": 12,
   "metadata": {},
   "outputs": [],
   "source": [
    "#the labels of predicted function in array\n",
    "y_pred = obj.predict(X_test)"
   ]
  },
  {
   "cell_type": "code",
   "execution_count": 13,
   "metadata": {},
   "outputs": [],
   "source": [
    "#probabilities of x_test in array\n",
    "a = obj.predict_proba(X_test)"
   ]
  },
  {
   "cell_type": "code",
   "execution_count": 14,
   "metadata": {},
   "outputs": [
    {
     "data": {
      "text/plain": [
       "1.5713172252533125"
      ]
     },
     "execution_count": 14,
     "metadata": {},
     "output_type": "execute_result"
    }
   ],
   "source": [
    "from sklearn.metrics import mean_squared_error\n",
    "mean_squared_error(y_test, y_pred)"
   ]
  },
  {
   "cell_type": "code",
   "execution_count": 31,
   "metadata": {},
   "outputs": [
    {
     "data": {
      "text/plain": [
       "0.6071706936866719"
      ]
     },
     "execution_count": 31,
     "metadata": {},
     "output_type": "execute_result"
    }
   ],
   "source": [
    "from sklearn.metrics import accuracy_score\n",
    "accuracy_score(y_test, y_pred)"
   ]
  },
  {
   "cell_type": "code",
   "execution_count": 16,
   "metadata": {},
   "outputs": [
    {
     "data": {
      "text/plain": [
       "0.617678588831498"
      ]
     },
     "execution_count": 16,
     "metadata": {},
     "output_type": "execute_result"
    }
   ],
   "source": [
    "y_train_pred = obj.predict(X_train)\n",
    "accuracy_score(y_train, y_train_pred)"
   ]
  },
  {
   "cell_type": "code",
   "execution_count": 17,
   "metadata": {},
   "outputs": [],
   "source": [
    "df1 = pd.DataFrame(a.reshape(-1, len(a)))"
   ]
  },
  {
   "cell_type": "code",
   "execution_count": 18,
   "metadata": {},
   "outputs": [
    {
     "data": {
      "text/plain": [
       "1013"
      ]
     },
     "execution_count": 18,
     "metadata": {},
     "output_type": "execute_result"
    }
   ],
   "source": [
    "sum(x > .5 for x in a)"
   ]
  },
  {
   "cell_type": "code",
   "execution_count": 19,
   "metadata": {},
   "outputs": [
    {
     "data": {
      "text/plain": [
       "2566"
      ]
     },
     "execution_count": 19,
     "metadata": {},
     "output_type": "execute_result"
    }
   ],
   "source": [
    "len(a)"
   ]
  },
  {
   "cell_type": "code",
   "execution_count": 20,
   "metadata": {},
   "outputs": [
    {
     "data": {
      "text/plain": [
       "21"
      ]
     },
     "execution_count": 20,
     "metadata": {},
     "output_type": "execute_result"
    }
   ],
   "source": [
    "sum(x == 1 for x in y_test)"
   ]
  },
  {
   "cell_type": "code",
   "execution_count": 21,
   "metadata": {},
   "outputs": [
    {
     "name": "stdout",
     "output_type": "stream",
     "text": [
      "baseline is 0.00818394388152767\n",
      "adjusted is 0.18043647700701482\n",
      "how much more likely 22.047619047619047\n",
      "number of positives 570\n"
     ]
    }
   ],
   "source": [
    "#find baseline occurence of positive class\n",
    "baseline =  21.0/2566\n",
    "adjusted = (570-107)/2566\n",
    "lift = adjusted/baseline\n",
    "\n",
    "print('baseline is', baseline)\n",
    "print('adjusted is', adjusted)\n",
    "print('how much more likely',lift)\n",
    "print('number of positives', 570)"
   ]
  },
  {
   "cell_type": "code",
   "execution_count": 22,
   "metadata": {},
   "outputs": [
    {
     "data": {
      "text/plain": [
       "0.02514506769825919"
      ]
     },
     "execution_count": 22,
     "metadata": {},
     "output_type": "execute_result"
    }
   ],
   "source": [
    "from sklearn.metrics import f1_score\n",
    "f1_score(y_pred, y_test)"
   ]
  },
  {
   "cell_type": "code",
   "execution_count": 23,
   "metadata": {},
   "outputs": [
    {
     "data": {
      "text/plain": [
       "0.027274981403421772"
      ]
     },
     "execution_count": 23,
     "metadata": {},
     "output_type": "execute_result"
    }
   ],
   "source": [
    "#f1 score for training data\n",
    "f1_score(y_train_pred, y_train)"
   ]
  },
  {
   "cell_type": "code",
   "execution_count": 24,
   "metadata": {},
   "outputs": [
    {
     "data": {
      "text/plain": [
       "array([[1545, 1000],\n",
       "       [   8,   13]])"
      ]
     },
     "execution_count": 24,
     "metadata": {},
     "output_type": "execute_result"
    }
   ],
   "source": [
    "from sklearn.metrics import confusion_matrix\n",
    "confusion_matrix(y_test, y_pred)"
   ]
  },
  {
   "cell_type": "code",
   "execution_count": 25,
   "metadata": {},
   "outputs": [
    {
     "data": {
      "image/png": "[encoded data removed]",
      "text/plain": [
       "<Figure size 432x288 with 1 Axes>"
      ]
     },
     "metadata": {},
     "output_type": "display_data"
    }
   ],
   "source": [
    "from sklearn.metrics import roc_curve, roc_auc_score\n",
    "\n",
    "# Compute predicted probabilities: y_pred_prob\n",
    "a = obj.predict_proba(X_test)\n",
    "B = np.reshape(a, (-1, 2))\n",
    "y_pred_prob = B[:,1]\n",
    "\n",
    "# Generate ROC curve values: fpr, tpr, thresholds\n",
    "fpr, tpr, thresholds = roc_curve(y_test, a)\n",
    "\n",
    "# Plot ROC curve\n",
    "plt.plot([0, 1], [0, 1], 'k--')\n",
    "plt.plot(fpr, tpr)\n",
    "plt.xlabel('False Positive Rate')\n",
    "plt.ylabel('True Positive Rate')\n",
    "plt.title('ROC Curve for Neural Net')\n",
    "plt.show()"
   ]
  },
  {
   "cell_type": "code",
   "execution_count": 26,
   "metadata": {},
   "outputs": [
    {
     "data": {
      "text/plain": [
       "0.6391336888389932"
      ]
     },
     "execution_count": 26,
     "metadata": {},
     "output_type": "execute_result"
    }
   ],
   "source": [
    "#finding area under the ROC curve \n",
    "from sklearn.metrics import roc_auc_score\n",
    "\n",
    "roc_auc_score(y_test, a)\n"
   ]
  },
  {
   "cell_type": "code",
   "execution_count": 27,
   "metadata": {},
   "outputs": [
    {
     "data": {
      "text/plain": [
       "array([0.36295067, 0.17057771, 0.30889481, ..., 0.14238217, 0.61908289,\n",
       "       0.2173407 ])"
      ]
     },
     "execution_count": 27,
     "metadata": {},
     "output_type": "execute_result"
    }
   ],
   "source": [
    "a"
   ]
  },
  {
   "cell_type": "code",
   "execution_count": 28,
   "metadata": {},
   "outputs": [
    {
     "name": "stderr",
     "output_type": "stream",
     "text": [
      "/Users/hopeknopf/anaconda3/lib/python3.6/site-packages/matplotlib/cbook/deprecation.py:107: MatplotlibDeprecationWarning: Passing one of 'on', 'true', 'off', 'false' as a boolean is deprecated; use an actual boolean (True/False) instead.\n",
      "  warnings.warn(message, mplDeprecation, stacklevel=1)\n"
     ]
    },
    {
     "data": {
      "image/png": "[encoded data removed]",
      "text/plain": [
       "<Figure size 432x288 with 1 Axes>"
      ]
     },
     "metadata": {},
     "output_type": "display_data"
    }
   ],
   "source": [
    "#cumulative gains curve \n",
    "predicted_probas = a\n",
    "\n",
    "import matplotlib.pyplot as plt\n",
    "import scikitplot as skplt\n",
    "skplt.metrics.plot_cumulative_gain(y_test, B)\n",
    "plt.show()"
   ]
  },
  {
   "cell_type": "code",
   "execution_count": 29,
   "metadata": {},
   "outputs": [
    {
     "data": {
      "text/plain": [
       "<bound method PUAdapter.__str__ of <__main__.PUAdapter object at 0x1071a9208>>"
      ]
     },
     "execution_count": 29,
     "metadata": {},
     "output_type": "execute_result"
    }
   ],
   "source": [
    "obj.__str__"
   ]
  },
  {
   "cell_type": "code",
   "execution_count": 30,
   "metadata": {},
   "outputs": [
    {
     "name": "stderr",
     "output_type": "stream",
     "text": [
      "/Users/hopeknopf/anaconda3/lib/python3.6/site-packages/matplotlib/cbook/deprecation.py:107: MatplotlibDeprecationWarning: Passing one of 'on', 'true', 'off', 'false' as a boolean is deprecated; use an actual boolean (True/False) instead.\n",
      "  warnings.warn(message, mplDeprecation, stacklevel=1)\n"
     ]
    },
    {
     "data": {
      "image/png": "[encoded data removed]",
      "text/plain": [
       "<Figure size 432x288 with 1 Axes>"
      ]
     },
     "metadata": {},
     "output_type": "display_data"
    }
   ],
   "source": [
    "#cumulative gain \n",
    "predicted_probas = estimator.predict_proba(X_test)\n",
    "\n",
    "\n",
    "import matplotlib.pyplot as plt\n",
    "import scikitplot as skplt\n",
    "skplt.metrics.plot_cumulative_gain(y_test, predicted_probas)\n",
    "plt.show()"
   ]
  },
  {
   "cell_type": "code",
   "execution_count": null,
   "metadata": {},
   "outputs": [],
   "source": []
  }
 ],
 "metadata": {
  "kernelspec": {
   "display_name": "Python 3",
   "language": "python",
   "name": "python3"
  },
  "language_info": {
   "codemirror_mode": {
    "name": "ipython",
    "version": 3
   },
   "file_extension": ".py",
   "mimetype": "text/x-python",
   "name": "python",
   "nbconvert_exporter": "python",
   "pygments_lexer": "ipython3",
   "version": "3.6.5"
  }
 },
 "nbformat": 4,
 "nbformat_minor": 2
}
